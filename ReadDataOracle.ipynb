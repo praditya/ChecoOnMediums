{
 "cells": [
  {
   "cell_type": "code",
   "execution_count": 1,
   "id": "be618e51",
   "metadata": {},
   "outputs": [],
   "source": [
    "import requests as re\n",
    "import pandas as pd"
   ]
  },
  {
   "cell_type": "code",
   "execution_count": 2,
   "id": "6940da40",
   "metadata": {},
   "outputs": [
    {
     "name": "stdout",
     "output_type": "stream",
     "text": [
      "Session id- 13315121676340788867 and Lap number- 1 data shape is- (1623, 16)\n"
     ]
    },
    {
     "name": "stderr",
     "output_type": "stream",
     "text": [
      "C:\\Users\\arajawa1\\AppData\\Local\\Temp\\ipykernel_33492\\2931157892.py:24: FutureWarning: The frame.append method is deprecated and will be removed from pandas in a future version. Use pandas.concat instead.\n",
      "  data = data.append(temp)\n"
     ]
    },
    {
     "name": "stdout",
     "output_type": "stream",
     "text": [
      "Session id- 13315121676340788867 and Lap number- 2 data shape is- (1635, 16)\n"
     ]
    },
    {
     "name": "stderr",
     "output_type": "stream",
     "text": [
      "C:\\Users\\arajawa1\\AppData\\Local\\Temp\\ipykernel_33492\\2931157892.py:24: FutureWarning: The frame.append method is deprecated and will be removed from pandas in a future version. Use pandas.concat instead.\n",
      "  data = data.append(temp)\n"
     ]
    },
    {
     "name": "stdout",
     "output_type": "stream",
     "text": [
      "Session id- 15010144713596184927 and Lap number- 1 data shape is- (4609, 16)\n"
     ]
    },
    {
     "name": "stderr",
     "output_type": "stream",
     "text": [
      "C:\\Users\\arajawa1\\AppData\\Local\\Temp\\ipykernel_33492\\2931157892.py:24: FutureWarning: The frame.append method is deprecated and will be removed from pandas in a future version. Use pandas.concat instead.\n",
      "  data = data.append(temp)\n"
     ]
    },
    {
     "name": "stdout",
     "output_type": "stream",
     "text": [
      "Session id- 14829450551143233443 and Lap number- 1 data shape is- (1631, 16)\n"
     ]
    },
    {
     "name": "stderr",
     "output_type": "stream",
     "text": [
      "C:\\Users\\arajawa1\\AppData\\Local\\Temp\\ipykernel_33492\\2931157892.py:24: FutureWarning: The frame.append method is deprecated and will be removed from pandas in a future version. Use pandas.concat instead.\n",
      "  data = data.append(temp)\n"
     ]
    },
    {
     "name": "stdout",
     "output_type": "stream",
     "text": [
      "Session id- 14829450551143233443 and Lap number- 2 data shape is- (1669, 16)\n"
     ]
    },
    {
     "name": "stderr",
     "output_type": "stream",
     "text": [
      "C:\\Users\\arajawa1\\AppData\\Local\\Temp\\ipykernel_33492\\2931157892.py:24: FutureWarning: The frame.append method is deprecated and will be removed from pandas in a future version. Use pandas.concat instead.\n",
      "  data = data.append(temp)\n"
     ]
    },
    {
     "name": "stdout",
     "output_type": "stream",
     "text": [
      "Session id- 14829450551143233443 and Lap number- 3 data shape is- (1919, 16)\n"
     ]
    },
    {
     "name": "stderr",
     "output_type": "stream",
     "text": [
      "C:\\Users\\arajawa1\\AppData\\Local\\Temp\\ipykernel_33492\\2931157892.py:24: FutureWarning: The frame.append method is deprecated and will be removed from pandas in a future version. Use pandas.concat instead.\n",
      "  data = data.append(temp)\n"
     ]
    },
    {
     "name": "stdout",
     "output_type": "stream",
     "text": [
      "Session id- 14829450551143233443 and Lap number- 4 data shape is- (1590, 16)\n"
     ]
    },
    {
     "name": "stderr",
     "output_type": "stream",
     "text": [
      "C:\\Users\\arajawa1\\AppData\\Local\\Temp\\ipykernel_33492\\2931157892.py:24: FutureWarning: The frame.append method is deprecated and will be removed from pandas in a future version. Use pandas.concat instead.\n",
      "  data = data.append(temp)\n"
     ]
    },
    {
     "name": "stdout",
     "output_type": "stream",
     "text": [
      "Session id- 14829450551143233443 and Lap number- 5 data shape is- (1657, 16)\n"
     ]
    },
    {
     "name": "stderr",
     "output_type": "stream",
     "text": [
      "C:\\Users\\arajawa1\\AppData\\Local\\Temp\\ipykernel_33492\\2931157892.py:24: FutureWarning: The frame.append method is deprecated and will be removed from pandas in a future version. Use pandas.concat instead.\n",
      "  data = data.append(temp)\n"
     ]
    },
    {
     "name": "stdout",
     "output_type": "stream",
     "text": [
      "Session id- 14829450551143233443 and Lap number- 6 data shape is- (1649, 16)\n"
     ]
    },
    {
     "name": "stderr",
     "output_type": "stream",
     "text": [
      "C:\\Users\\arajawa1\\AppData\\Local\\Temp\\ipykernel_33492\\2931157892.py:24: FutureWarning: The frame.append method is deprecated and will be removed from pandas in a future version. Use pandas.concat instead.\n",
      "  data = data.append(temp)\n"
     ]
    },
    {
     "name": "stdout",
     "output_type": "stream",
     "text": [
      "Session id- 14829450551143233443 and Lap number- 7 data shape is- (1776, 16)\n"
     ]
    },
    {
     "name": "stderr",
     "output_type": "stream",
     "text": [
      "C:\\Users\\arajawa1\\AppData\\Local\\Temp\\ipykernel_33492\\2931157892.py:24: FutureWarning: The frame.append method is deprecated and will be removed from pandas in a future version. Use pandas.concat instead.\n",
      "  data = data.append(temp)\n"
     ]
    },
    {
     "name": "stdout",
     "output_type": "stream",
     "text": [
      "Session id- 14829450551143233443 and Lap number- 8 data shape is- (1608, 16)\n"
     ]
    },
    {
     "name": "stderr",
     "output_type": "stream",
     "text": [
      "C:\\Users\\arajawa1\\AppData\\Local\\Temp\\ipykernel_33492\\2931157892.py:24: FutureWarning: The frame.append method is deprecated and will be removed from pandas in a future version. Use pandas.concat instead.\n",
      "  data = data.append(temp)\n"
     ]
    },
    {
     "name": "stdout",
     "output_type": "stream",
     "text": [
      "Session id- 9296252324797135598 and Lap number- 1 data shape is- (1613, 16)\n"
     ]
    },
    {
     "name": "stderr",
     "output_type": "stream",
     "text": [
      "C:\\Users\\arajawa1\\AppData\\Local\\Temp\\ipykernel_33492\\2931157892.py:24: FutureWarning: The frame.append method is deprecated and will be removed from pandas in a future version. Use pandas.concat instead.\n",
      "  data = data.append(temp)\n"
     ]
    },
    {
     "name": "stdout",
     "output_type": "stream",
     "text": [
      "Session id- 9296252324797135598 and Lap number- 2 data shape is- (1632, 16)\n"
     ]
    },
    {
     "name": "stderr",
     "output_type": "stream",
     "text": [
      "C:\\Users\\arajawa1\\AppData\\Local\\Temp\\ipykernel_33492\\2931157892.py:24: FutureWarning: The frame.append method is deprecated and will be removed from pandas in a future version. Use pandas.concat instead.\n",
      "  data = data.append(temp)\n"
     ]
    },
    {
     "name": "stdout",
     "output_type": "stream",
     "text": [
      "Session id- 14112933445202903173 and Lap number- 1 data shape is- (1582, 16)\n"
     ]
    },
    {
     "name": "stderr",
     "output_type": "stream",
     "text": [
      "C:\\Users\\arajawa1\\AppData\\Local\\Temp\\ipykernel_33492\\2931157892.py:24: FutureWarning: The frame.append method is deprecated and will be removed from pandas in a future version. Use pandas.concat instead.\n",
      "  data = data.append(temp)\n"
     ]
    },
    {
     "name": "stdout",
     "output_type": "stream",
     "text": [
      "Session id- 5392487118495409773 and Lap number- 1 data shape is- (2836, 16)\n"
     ]
    },
    {
     "name": "stderr",
     "output_type": "stream",
     "text": [
      "C:\\Users\\arajawa1\\AppData\\Local\\Temp\\ipykernel_33492\\2931157892.py:24: FutureWarning: The frame.append method is deprecated and will be removed from pandas in a future version. Use pandas.concat instead.\n",
      "  data = data.append(temp)\n"
     ]
    },
    {
     "name": "stdout",
     "output_type": "stream",
     "text": [
      "Session id- 5392487118495409773 and Lap number- 2 data shape is- (2944, 16)\n"
     ]
    },
    {
     "name": "stderr",
     "output_type": "stream",
     "text": [
      "C:\\Users\\arajawa1\\AppData\\Local\\Temp\\ipykernel_33492\\2931157892.py:24: FutureWarning: The frame.append method is deprecated and will be removed from pandas in a future version. Use pandas.concat instead.\n",
      "  data = data.append(temp)\n"
     ]
    },
    {
     "name": "stdout",
     "output_type": "stream",
     "text": [
      "Session id- 863461143984317381 and Lap number- 1 data shape is- (2270, 16)\n"
     ]
    },
    {
     "name": "stderr",
     "output_type": "stream",
     "text": [
      "C:\\Users\\arajawa1\\AppData\\Local\\Temp\\ipykernel_33492\\2931157892.py:24: FutureWarning: The frame.append method is deprecated and will be removed from pandas in a future version. Use pandas.concat instead.\n",
      "  data = data.append(temp)\n"
     ]
    },
    {
     "name": "stdout",
     "output_type": "stream",
     "text": [
      "Session id- 863461143984317381 and Lap number- 2 data shape is- (1753, 16)\n"
     ]
    },
    {
     "name": "stderr",
     "output_type": "stream",
     "text": [
      "C:\\Users\\arajawa1\\AppData\\Local\\Temp\\ipykernel_33492\\2931157892.py:24: FutureWarning: The frame.append method is deprecated and will be removed from pandas in a future version. Use pandas.concat instead.\n",
      "  data = data.append(temp)\n"
     ]
    },
    {
     "name": "stdout",
     "output_type": "stream",
     "text": [
      "Session id- 14723197675720646148 and Lap number- 1 data shape is- (3826, 16)\n"
     ]
    },
    {
     "name": "stderr",
     "output_type": "stream",
     "text": [
      "C:\\Users\\arajawa1\\AppData\\Local\\Temp\\ipykernel_33492\\2931157892.py:24: FutureWarning: The frame.append method is deprecated and will be removed from pandas in a future version. Use pandas.concat instead.\n",
      "  data = data.append(temp)\n"
     ]
    },
    {
     "name": "stdout",
     "output_type": "stream",
     "text": [
      "Session id- 3447308828675135472 and Lap number- 1 data shape is- (4159, 16)\n"
     ]
    },
    {
     "name": "stderr",
     "output_type": "stream",
     "text": [
      "C:\\Users\\arajawa1\\AppData\\Local\\Temp\\ipykernel_33492\\2931157892.py:24: FutureWarning: The frame.append method is deprecated and will be removed from pandas in a future version. Use pandas.concat instead.\n",
      "  data = data.append(temp)\n"
     ]
    },
    {
     "name": "stdout",
     "output_type": "stream",
     "text": [
      "Session id- 6424586751601551341 and Lap number- 1 data shape is- (3548, 16)\n"
     ]
    },
    {
     "name": "stderr",
     "output_type": "stream",
     "text": [
      "C:\\Users\\arajawa1\\AppData\\Local\\Temp\\ipykernel_33492\\2931157892.py:24: FutureWarning: The frame.append method is deprecated and will be removed from pandas in a future version. Use pandas.concat instead.\n",
      "  data = data.append(temp)\n"
     ]
    },
    {
     "name": "stdout",
     "output_type": "stream",
     "text": [
      "Session id- 4343711350942679131 and Lap number- 1 data shape is- (1603, 16)\n"
     ]
    },
    {
     "name": "stderr",
     "output_type": "stream",
     "text": [
      "C:\\Users\\arajawa1\\AppData\\Local\\Temp\\ipykernel_33492\\2931157892.py:24: FutureWarning: The frame.append method is deprecated and will be removed from pandas in a future version. Use pandas.concat instead.\n",
      "  data = data.append(temp)\n"
     ]
    }
   ],
   "source": [
    "\n",
    "#####################\n",
    "\n",
    "# Session API\n",
    "response = re.get(\"https://apigw.withoracle.cloud/formulaai/sessions\")\n",
    "sessionDf = pd.json_normalize(response.json())\n",
    "\n",
    "trackId = 'Melbourne' # User input for final application\n",
    "\n",
    "# Seprating out the df based on track id\n",
    "selectedSessionDf = sessionDf[sessionDf['TRACKID'] == trackId]\n",
    "\n",
    "# Appending the data for each session id and lap\n",
    "\n",
    "# apending directly in data frame ~ 40 seconds\n",
    "data = pd.DataFrame()\n",
    "for index, row in selectedSessionDf.iterrows():\n",
    "    laps = row.loc['LAPS']\n",
    "    sessionId = row.loc['M_SESSIONID'] \n",
    "    # data should be upto lap number.. but we have data upto lap+1\n",
    "    for i in range(laps):\n",
    "        url = \"https://apigw.withoracle.cloud/formulaai/trackData/\" + sessionId + \"/\" + str(i+1)\n",
    "        temp = pd.json_normalize(re.get(url).json())\n",
    "        print(\"Session id- \" + sessionId + \" and Lap number- \" + str(i+1)+ \" data shape is- \" + str(temp.shape)) \n",
    "        data = data.append(temp)"
   ]
  },
  {
   "cell_type": "code",
   "execution_count": 30,
   "id": "0de246e4",
   "metadata": {},
   "outputs": [
    {
     "data": {
      "text/html": [
       "<div>\n",
       "<style scoped>\n",
       "    .dataframe tbody tr th:only-of-type {\n",
       "        vertical-align: middle;\n",
       "    }\n",
       "\n",
       "    .dataframe tbody tr th {\n",
       "        vertical-align: top;\n",
       "    }\n",
       "\n",
       "    .dataframe thead th {\n",
       "        text-align: right;\n",
       "    }\n",
       "</style>\n",
       "<table border=\"1\" class=\"dataframe\">\n",
       "  <thead>\n",
       "    <tr style=\"text-align: right;\">\n",
       "      <th></th>\n",
       "      <th>M_SESSION</th>\n",
       "      <th>FRAME</th>\n",
       "      <th>RACETIME</th>\n",
       "      <th>CURRENT_LAP_NUM</th>\n",
       "      <th>SECTOR</th>\n",
       "      <th>SPEED</th>\n",
       "      <th>LAP_DISTANCE</th>\n",
       "      <th>WORLDPOSX</th>\n",
       "      <th>WORLDPOSY</th>\n",
       "      <th>WORLDPOSZ</th>\n",
       "      <th>WORLDFORWARDDIRX</th>\n",
       "      <th>WORLDFORWARDDIRY</th>\n",
       "      <th>WORLDFORWARDDIRZ</th>\n",
       "      <th>WORLDRIGHTDIRX</th>\n",
       "      <th>WORLDRIGHTDIRY</th>\n",
       "      <th>WORLDRIGHTDIRZ</th>\n",
       "    </tr>\n",
       "  </thead>\n",
       "  <tbody>\n",
       "    <tr>\n",
       "      <th>0</th>\n",
       "      <td>5.392487e+18</td>\n",
       "      <td>565</td>\n",
       "      <td>2022-02-18 12:22:53</td>\n",
       "      <td>1</td>\n",
       "      <td>0</td>\n",
       "      <td>160</td>\n",
       "      <td>0.954011</td>\n",
       "      <td>112.503380</td>\n",
       "      <td>464.131256</td>\n",
       "      <td>2.970696</td>\n",
       "      <td>41862</td>\n",
       "      <td>65266</td>\n",
       "      <td>42885</td>\n",
       "      <td>22652</td>\n",
       "      <td>50</td>\n",
       "      <td>41861</td>\n",
       "    </tr>\n",
       "    <tr>\n",
       "      <th>1</th>\n",
       "      <td>5.392487e+18</td>\n",
       "      <td>566</td>\n",
       "      <td>2022-02-18 12:22:53</td>\n",
       "      <td>1</td>\n",
       "      <td>0</td>\n",
       "      <td>160</td>\n",
       "      <td>3.925263</td>\n",
       "      <td>114.650330</td>\n",
       "      <td>462.077332</td>\n",
       "      <td>2.951317</td>\n",
       "      <td>41864</td>\n",
       "      <td>65289</td>\n",
       "      <td>42882</td>\n",
       "      <td>22654</td>\n",
       "      <td>27</td>\n",
       "      <td>41863</td>\n",
       "    </tr>\n",
       "    <tr>\n",
       "      <th>2</th>\n",
       "      <td>5.392487e+18</td>\n",
       "      <td>567</td>\n",
       "      <td>2022-02-18 12:22:53</td>\n",
       "      <td>1</td>\n",
       "      <td>0</td>\n",
       "      <td>159</td>\n",
       "      <td>6.147455</td>\n",
       "      <td>116.255783</td>\n",
       "      <td>460.540955</td>\n",
       "      <td>2.937496</td>\n",
       "      <td>41865</td>\n",
       "      <td>65282</td>\n",
       "      <td>42881</td>\n",
       "      <td>22656</td>\n",
       "      <td>0</td>\n",
       "      <td>41864</td>\n",
       "    </tr>\n",
       "    <tr>\n",
       "      <th>3</th>\n",
       "      <td>5.392487e+18</td>\n",
       "      <td>568</td>\n",
       "      <td>2022-02-18 12:22:53</td>\n",
       "      <td>1</td>\n",
       "      <td>0</td>\n",
       "      <td>159</td>\n",
       "      <td>8.369106</td>\n",
       "      <td>117.860786</td>\n",
       "      <td>459.004883</td>\n",
       "      <td>2.924089</td>\n",
       "      <td>41866</td>\n",
       "      <td>65285</td>\n",
       "      <td>42880</td>\n",
       "      <td>22657</td>\n",
       "      <td>65523</td>\n",
       "      <td>41866</td>\n",
       "    </tr>\n",
       "    <tr>\n",
       "      <th>4</th>\n",
       "      <td>5.392487e+18</td>\n",
       "      <td>569</td>\n",
       "      <td>2022-02-18 12:22:53</td>\n",
       "      <td>1</td>\n",
       "      <td>0</td>\n",
       "      <td>159</td>\n",
       "      <td>10.591691</td>\n",
       "      <td>119.466347</td>\n",
       "      <td>457.468048</td>\n",
       "      <td>2.910896</td>\n",
       "      <td>41868</td>\n",
       "      <td>65299</td>\n",
       "      <td>42878</td>\n",
       "      <td>22659</td>\n",
       "      <td>65502</td>\n",
       "      <td>41867</td>\n",
       "    </tr>\n",
       "    <tr>\n",
       "      <th>...</th>\n",
       "      <td>...</td>\n",
       "      <td>...</td>\n",
       "      <td>...</td>\n",
       "      <td>...</td>\n",
       "      <td>...</td>\n",
       "      <td>...</td>\n",
       "      <td>...</td>\n",
       "      <td>...</td>\n",
       "      <td>...</td>\n",
       "      <td>...</td>\n",
       "      <td>...</td>\n",
       "      <td>...</td>\n",
       "      <td>...</td>\n",
       "      <td>...</td>\n",
       "      <td>...</td>\n",
       "      <td>...</td>\n",
       "    </tr>\n",
       "    <tr>\n",
       "      <th>1627</th>\n",
       "      <td>9.296252e+18</td>\n",
       "      <td>3996</td>\n",
       "      <td>2022-02-16 13:02:10</td>\n",
       "      <td>2</td>\n",
       "      <td>2</td>\n",
       "      <td>297</td>\n",
       "      <td>5278.088379</td>\n",
       "      <td>96.165833</td>\n",
       "      <td>481.949371</td>\n",
       "      <td>3.064066</td>\n",
       "      <td>41835</td>\n",
       "      <td>65295</td>\n",
       "      <td>42912</td>\n",
       "      <td>22623</td>\n",
       "      <td>149</td>\n",
       "      <td>41834</td>\n",
       "    </tr>\n",
       "    <tr>\n",
       "      <th>1628</th>\n",
       "      <td>9.296252e+18</td>\n",
       "      <td>3997</td>\n",
       "      <td>2022-02-16 13:02:10</td>\n",
       "      <td>2</td>\n",
       "      <td>2</td>\n",
       "      <td>297</td>\n",
       "      <td>5282.228027</td>\n",
       "      <td>99.161697</td>\n",
       "      <td>479.092194</td>\n",
       "      <td>3.038681</td>\n",
       "      <td>41909</td>\n",
       "      <td>65298</td>\n",
       "      <td>42834</td>\n",
       "      <td>22701</td>\n",
       "      <td>182</td>\n",
       "      <td>41908</td>\n",
       "    </tr>\n",
       "    <tr>\n",
       "      <th>1629</th>\n",
       "      <td>9.296252e+18</td>\n",
       "      <td>3998</td>\n",
       "      <td>2022-02-16 13:02:10</td>\n",
       "      <td>2</td>\n",
       "      <td>2</td>\n",
       "      <td>298</td>\n",
       "      <td>5287.758301</td>\n",
       "      <td>103.150459</td>\n",
       "      <td>475.261505</td>\n",
       "      <td>3.010845</td>\n",
       "      <td>42004</td>\n",
       "      <td>65319</td>\n",
       "      <td>42736</td>\n",
       "      <td>22799</td>\n",
       "      <td>203</td>\n",
       "      <td>42003</td>\n",
       "    </tr>\n",
       "    <tr>\n",
       "      <th>1630</th>\n",
       "      <td>9.296252e+18</td>\n",
       "      <td>3999</td>\n",
       "      <td>2022-02-16 13:02:10</td>\n",
       "      <td>2</td>\n",
       "      <td>2</td>\n",
       "      <td>298</td>\n",
       "      <td>5291.909668</td>\n",
       "      <td>106.134430</td>\n",
       "      <td>472.375885</td>\n",
       "      <td>2.994304</td>\n",
       "      <td>42068</td>\n",
       "      <td>65355</td>\n",
       "      <td>42670</td>\n",
       "      <td>22865</td>\n",
       "      <td>205</td>\n",
       "      <td>42067</td>\n",
       "    </tr>\n",
       "    <tr>\n",
       "      <th>1631</th>\n",
       "      <td>9.296252e+18</td>\n",
       "      <td>4000</td>\n",
       "      <td>2022-02-16 13:02:10</td>\n",
       "      <td>2</td>\n",
       "      <td>2</td>\n",
       "      <td>299</td>\n",
       "      <td>5296.061035</td>\n",
       "      <td>109.110809</td>\n",
       "      <td>469.481262</td>\n",
       "      <td>2.977553</td>\n",
       "      <td>42129</td>\n",
       "      <td>65315</td>\n",
       "      <td>42608</td>\n",
       "      <td>22927</td>\n",
       "      <td>194</td>\n",
       "      <td>42127</td>\n",
       "    </tr>\n",
       "  </tbody>\n",
       "</table>\n",
       "<p>49132 rows × 16 columns</p>\n",
       "</div>"
      ],
      "text/plain": [
       "         M_SESSION  FRAME             RACETIME  CURRENT_LAP_NUM  SECTOR  \\\n",
       "0     5.392487e+18    565  2022-02-18 12:22:53                1       0   \n",
       "1     5.392487e+18    566  2022-02-18 12:22:53                1       0   \n",
       "2     5.392487e+18    567  2022-02-18 12:22:53                1       0   \n",
       "3     5.392487e+18    568  2022-02-18 12:22:53                1       0   \n",
       "4     5.392487e+18    569  2022-02-18 12:22:53                1       0   \n",
       "...            ...    ...                  ...              ...     ...   \n",
       "1627  9.296252e+18   3996  2022-02-16 13:02:10                2       2   \n",
       "1628  9.296252e+18   3997  2022-02-16 13:02:10                2       2   \n",
       "1629  9.296252e+18   3998  2022-02-16 13:02:10                2       2   \n",
       "1630  9.296252e+18   3999  2022-02-16 13:02:10                2       2   \n",
       "1631  9.296252e+18   4000  2022-02-16 13:02:10                2       2   \n",
       "\n",
       "      SPEED  LAP_DISTANCE   WORLDPOSX   WORLDPOSY  WORLDPOSZ  \\\n",
       "0       160      0.954011  112.503380  464.131256   2.970696   \n",
       "1       160      3.925263  114.650330  462.077332   2.951317   \n",
       "2       159      6.147455  116.255783  460.540955   2.937496   \n",
       "3       159      8.369106  117.860786  459.004883   2.924089   \n",
       "4       159     10.591691  119.466347  457.468048   2.910896   \n",
       "...     ...           ...         ...         ...        ...   \n",
       "1627    297   5278.088379   96.165833  481.949371   3.064066   \n",
       "1628    297   5282.228027   99.161697  479.092194   3.038681   \n",
       "1629    298   5287.758301  103.150459  475.261505   3.010845   \n",
       "1630    298   5291.909668  106.134430  472.375885   2.994304   \n",
       "1631    299   5296.061035  109.110809  469.481262   2.977553   \n",
       "\n",
       "      WORLDFORWARDDIRX  WORLDFORWARDDIRY  WORLDFORWARDDIRZ  WORLDRIGHTDIRX  \\\n",
       "0                41862             65266             42885           22652   \n",
       "1                41864             65289             42882           22654   \n",
       "2                41865             65282             42881           22656   \n",
       "3                41866             65285             42880           22657   \n",
       "4                41868             65299             42878           22659   \n",
       "...                ...               ...               ...             ...   \n",
       "1627             41835             65295             42912           22623   \n",
       "1628             41909             65298             42834           22701   \n",
       "1629             42004             65319             42736           22799   \n",
       "1630             42068             65355             42670           22865   \n",
       "1631             42129             65315             42608           22927   \n",
       "\n",
       "      WORLDRIGHTDIRY  WORLDRIGHTDIRZ  \n",
       "0                 50           41861  \n",
       "1                 27           41863  \n",
       "2                  0           41864  \n",
       "3              65523           41866  \n",
       "4              65502           41867  \n",
       "...              ...             ...  \n",
       "1627             149           41834  \n",
       "1628             182           41908  \n",
       "1629             203           42003  \n",
       "1630             205           42067  \n",
       "1631             194           42127  \n",
       "\n",
       "[49132 rows x 16 columns]"
      ]
     },
     "execution_count": 30,
     "metadata": {},
     "output_type": "execute_result"
    }
   ],
   "source": [
    "data"
   ]
  },
  {
   "cell_type": "code",
   "execution_count": 31,
   "id": "bf782fdc",
   "metadata": {},
   "outputs": [],
   "source": [
    "wx = data['WORLDPOSX'].tolist()\n",
    "wy = data['WORLDPOSY'].tolist()\n",
    "wz = data['WORLDPOSZ'].tolist()\n",
    "\n",
    "wrx = data['WORLDRIGHTDIRX'].tolist()\n",
    "wry = data['WORLDRIGHTDIRY'].tolist()\n",
    "wrz = data['WORLDRIGHTDIRZ'].tolist()\n",
    "\n",
    "wfx = data['WORLDFORWARDDIRX'].tolist()\n",
    "wfy = data['WORLDFORWARDDIRY'].tolist()\n",
    "wfz = data['WORLDFORWARDDIRZ'].tolist()"
   ]
  },
  {
   "cell_type": "code",
   "execution_count": 33,
   "id": "f0a157ea",
   "metadata": {},
   "outputs": [
    {
     "data": {
      "text/plain": [
       "22654"
      ]
     },
     "execution_count": 33,
     "metadata": {},
     "output_type": "execute_result"
    }
   ],
   "source": [
    "wrx[1]"
   ]
  },
  {
   "cell_type": "code",
   "execution_count": 46,
   "id": "3e0f5917",
   "metadata": {},
   "outputs": [],
   "source": [
    "l = np.size(wx)\n",
    "normalvecs = []\n",
    "for i in range(l):\n",
    "    a = np.cross([wrx[i], wry[i], wrz[i]],[wfx[i], wfy[i], wfz[i]])\n",
    "    normalvecs.append(a)"
   ]
  },
  {
   "cell_type": "code",
   "execution_count": 45,
   "id": "26723d79",
   "metadata": {},
   "outputs": [
    {
     "data": {
      "text/plain": [
       "array([1562931703,  781103804, 1477926678])"
      ]
     },
     "execution_count": 45,
     "metadata": {},
     "output_type": "execute_result"
    }
   ],
   "source": [
    "normalvecs[i]"
   ]
  },
  {
   "cell_type": "code",
   "execution_count": 24,
   "id": "9d05458f",
   "metadata": {},
   "outputs": [
    {
     "data": {
      "text/plain": [
       "True"
      ]
     },
     "execution_count": 24,
     "metadata": {},
     "output_type": "execute_result"
    }
   ],
   "source": [
    "import open3d as o3d\n",
    "import numpy as np\n",
    "xyz = np.zeros((np.size(wx), 3))\n",
    "xyz[:, 0] = np.reshape(wx, -1)\n",
    "xyz[:, 1] = np.reshape(wy, -1)\n",
    "xyz[:, 2] = np.reshape(wz, -1)\n",
    "pcd = o3d.geometry.PointCloud()\n",
    "pcd.points = o3d.utility.Vector3dVector(xyz)\n",
    "o3d.io.write_point_cloud(\"Melbourne.ply\", pcd)"
   ]
  },
  {
   "cell_type": "code",
   "execution_count": 29,
   "id": "b7d55a7d",
   "metadata": {},
   "outputs": [
    {
     "name": "stdout",
     "output_type": "stream",
     "text": [
      "[Open3D WARNING] [ViewControl] SetViewPoint() failed because window height and width are not set.\n"
     ]
    }
   ],
   "source": [
    "pcd_load = o3d.io.read_triangle_mesh(\"bpa_mesh.ply\")\n",
    "o3d.visualization.draw_geometries([pcd_load])"
   ]
  },
  {
   "cell_type": "code",
   "execution_count": 49,
   "id": "e58a23ab",
   "metadata": {},
   "outputs": [],
   "source": [
    "pcd.normals = o3d.utility.Vector3dVector(normalvecs)"
   ]
  },
  {
   "cell_type": "code",
   "execution_count": 50,
   "id": "b85dbdeb",
   "metadata": {},
   "outputs": [
    {
     "data": {
      "text/plain": [
       "array([1.56293170e+09, 7.81103804e+08, 1.47792668e+09])"
      ]
     },
     "execution_count": 50,
     "metadata": {},
     "output_type": "execute_result"
    }
   ],
   "source": [
    "pcd.normals[1]"
   ]
  },
  {
   "cell_type": "code",
   "execution_count": 52,
   "id": "50aad822",
   "metadata": {},
   "outputs": [
    {
     "data": {
      "text/plain": [
       "True"
      ]
     },
     "execution_count": 52,
     "metadata": {},
     "output_type": "execute_result"
    }
   ],
   "source": [
    "o3d.io.write_point_cloud(\"Melbourne-n.ply\", pcd)"
   ]
  },
  {
   "cell_type": "code",
   "execution_count": 4,
   "id": "557adb43",
   "metadata": {},
   "outputs": [
    {
     "name": "stdout",
     "output_type": "stream",
     "text": [
      "Jupyter environment detected. Enabling Open3D WebVisualizer.\n",
      "[Open3D INFO] WebRTC GUI backend enabled.\n",
      "[Open3D INFO] WebRTCWindowSystem: HTTP handshake server disabled.\n"
     ]
    }
   ],
   "source": [
    "import open3d as o3d\n",
    "\n",
    "pcd_load = o3d.io.read_point_cloud(\"Melbourne.ply\")\n",
    "o3d.visualization.draw_geometries([pcd_load])"
   ]
  },
  {
   "cell_type": "code",
   "execution_count": null,
   "id": "3e719f4c",
   "metadata": {},
   "outputs": [],
   "source": []
  }
 ],
 "metadata": {
  "kernelspec": {
   "display_name": "Python 3 (ipykernel)",
   "language": "python",
   "name": "python3"
  },
  "language_info": {
   "codemirror_mode": {
    "name": "ipython",
    "version": 3
   },
   "file_extension": ".py",
   "mimetype": "text/x-python",
   "name": "python",
   "nbconvert_exporter": "python",
   "pygments_lexer": "ipython3",
   "version": "3.9.10"
  }
 },
 "nbformat": 4,
 "nbformat_minor": 5
}
